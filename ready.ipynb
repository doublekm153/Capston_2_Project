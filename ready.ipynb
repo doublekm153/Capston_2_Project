{
 "cells": [
  {
   "cell_type": "code",
   "execution_count": 1,
   "metadata": {},
   "outputs": [
    {
     "name": "stdout",
     "output_type": "stream",
     "text": [
      "{'TranscriptionJobSummaries': [], 'ResponseMetadata': {'RequestId': '95b1097f-1df4-4e23-8c19-0c651ae3eb6b', 'HTTPStatusCode': 200, 'HTTPHeaders': {'x-amzn-requestid': '95b1097f-1df4-4e23-8c19-0c651ae3eb6b', 'content-type': 'application/x-amz-json-1.1', 'content-length': '32', 'date': 'Tue, 05 Sep 2023 14:01:15 GMT'}, 'RetryAttempts': 0}}\n"
     ]
    }
   ],
   "source": [
    "import boto3\n",
    "\n",
    "transcribe = boto3.client('transcribe', region_name='ap-northeast-2')\n",
    "\n",
    "response = transcribe.list_transcription_jobs()\n",
    "\n",
    "print(response)\n"
   ]
  }
 ],
 "metadata": {
  "kernelspec": {
   "display_name": "graduate",
   "language": "python",
   "name": "python3"
  },
  "language_info": {
   "codemirror_mode": {
    "name": "ipython",
    "version": 3
   },
   "file_extension": ".py",
   "mimetype": "text/x-python",
   "name": "python",
   "nbconvert_exporter": "python",
   "pygments_lexer": "ipython3",
   "version": "3.8.16"
  },
  "orig_nbformat": 4
 },
 "nbformat": 4,
 "nbformat_minor": 2
}
